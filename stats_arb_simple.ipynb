{
 "cells": [
  {
   "cell_type": "markdown",
   "metadata": {},
   "source": [
    "## Simple demonstration of statistical arbitrage"
   ]
  },
  {
   "cell_type": "code",
   "execution_count": 1,
   "metadata": {},
   "outputs": [],
   "source": [
    "from numpy import *\n",
    "import pandas as pd\n",
    "import matplotlib.pyplot as plt\n",
    "import seaborn as sbs\n",
    "sbs.set()\n",
    "%matplotlib inline"
   ]
  },
  {
   "cell_type": "code",
   "execution_count": 2,
   "metadata": {},
   "outputs": [],
   "source": [
    "# read prices\n",
    "Pe = pd.read_csv('data/JPM.csv')\n",
    "Pb = pd.read_csv('data/XLF.csv')"
   ]
  },
  {
   "cell_type": "code",
   "execution_count": 3,
   "metadata": {},
   "outputs": [],
   "source": [
    "# ensure the dates match up\n",
    "matched_data = pd.merge(Pe, Pb, on = 'date')\n",
    "matched_data = matched_data.sort_values(by=['date'], ascending = True).reset_index()\n",
    "\n",
    "# use adjusted close prices for the study\n",
    "price_e = matched_data['adjclose_x'].values\n",
    "price_b = matched_data['adjclose_y'].values"
   ]
  },
  {
   "cell_type": "code",
   "execution_count": 4,
   "metadata": {},
   "outputs": [],
   "source": [
    "# compute the (daily) return rate\n",
    "Re = diff(price_e) / price_e[:-1]\n",
    "Rb = diff(price_b) / price_b[:-1]\n",
    "\n",
    "# time interval = daily (~252 trading days in a year)\n",
    "dt = 1.0 / 252"
   ]
  },
  {
   "cell_type": "markdown",
   "metadata": {},
   "source": [
    "#### price evolution equation \n",
    "$$ R_e(t) = \\alpha \\cdot dt + \\beta \\cdot R_b(t) + dX(t) $$"
   ]
  },
  {
   "cell_type": "code",
   "execution_count": 5,
   "metadata": {},
   "outputs": [],
   "source": [
    "# use linear regression to find alpha and beta\n",
    "beta, alphaXdt = polyfit(Rb, Re, 1)\n",
    "alpha = alphaXdt / dt\n",
    "\n",
    "# detrending to find dX\n",
    "R_fit = polyval([beta, alphaXdt], Rb)\n",
    "dX = R_fit - Re\n",
    "\n",
    "# modeling X\n",
    "X = cumsum(dX)"
   ]
  },
  {
   "cell_type": "code",
   "execution_count": 6,
   "metadata": {},
   "outputs": [],
   "source": [
    "# ensure that X[-1] = 0\n",
    "assert X[-1] <= 0.001 "
   ]
  },
  {
   "cell_type": "markdown",
   "metadata": {},
   "source": [
    "### Modeled as Ornstein-Uhlenbeck process\n",
    "$$ dX = \\kappa*(m - X)*dt + \\sigma*dW$$\n",
    "\n",
    "in discrete form:\n",
    " $$ X[i+1] - X[i] = \\kappa*(m - X[i])*dt + \\sigma*sqrt(t)*dW $$\n",
    "or\n",
    " $$ X[i+1] = X[i]*(1-\\kappa*dt) + \\kappa*m*dt + \\sigma*sqrt(t)*dW $$"
   ]
  },
  {
   "cell_type": "code",
   "execution_count": 7,
   "metadata": {},
   "outputs": [],
   "source": [
    "# solve for kappa and m\n",
    "_1_kappaXdt, kappaXmXdt = polyfit(X[:-1], X[1:], 1)\n",
    "kappa = (1 - _1_kappaXdt) / dt\n",
    "m = kappaXmXdt / kappa / dt\n",
    "\n",
    "# solve for sigma\n",
    "X_fit = polyval([_1_kappaXdt, kappaXmXdt], X[:-1])\n",
    "sigma = std(X_fit - X[1:])\n",
    "sigma_t = sigma / sqrt(dt)"
   ]
  },
  {
   "cell_type": "code",
   "execution_count": 8,
   "metadata": {},
   "outputs": [],
   "source": [
    "# compute for z-value\n",
    "sigma_eq = sigma_t / sqrt(2*kappa)\n",
    "z = (X - m) / sigma_eq"
   ]
  },
  {
   "cell_type": "code",
   "execution_count": 9,
   "metadata": {},
   "outputs": [],
   "source": [
    "# = in practice, if we believe in the Ornstein-Uhlenbeck model,\n",
    "# = X follows a Gaussian distribution, hence\n",
    "m_prac        = mean(X)\n",
    "sigma_eq_prac =  std(X)\n",
    "z_prac = (X - m_prac) / sigma_eq_prac"
   ]
  },
  {
   "cell_type": "code",
   "execution_count": 10,
   "metadata": {},
   "outputs": [
    {
     "name": "stdout",
     "output_type": "stream",
     "text": [
      "difference between theoretical and observed: 0.208 %\n"
     ]
    }
   ],
   "source": [
    "print('difference between theoretical and observed:', abs(round(mean(abs(z - z_prac) / 0.5*(z + z_prac) * 100), 3)) , '%')"
   ]
  },
  {
   "cell_type": "code",
   "execution_count": 11,
   "metadata": {},
   "outputs": [
    {
     "data": {
      "image/png": "[encoded data removed]",
      "text/plain": [
       "<Figure size 432x288 with 1 Axes>"
      ]
     },
     "metadata": {
      "needs_background": "light"
     },
     "output_type": "display_data"
    }
   ],
   "source": [
    "# plotting\n",
    "z_series = pd.Series(z, index = matched_data['date'].index[-len(z):], name = 'Z', dtype=float64)\n",
    "D = pd.DataFrame({'date': matched_data['date'][-len(z_series):], 'Z': z_series})\n",
    "D['date'] = pd.to_datetime(D['date'])\n",
    "D.plot(\n",
    "    x='date', y='Z', \n",
    "    xticks = pd.date_range(D['date'].values[0], D['date'].values[-1], freq = '2M'),\n",
    "    xlim = [matched_data['date'].values[-len(z_series)], matched_data['date'].values[-1]],\n",
    ");"
   ]
  },
  {
   "cell_type": "code",
   "execution_count": null,
   "metadata": {},
   "outputs": [],
   "source": []
  },
  {
   "cell_type": "code",
   "execution_count": null,
   "metadata": {},
   "outputs": [],
   "source": []
  }
 ],
 "metadata": {
  "kernelspec": {
   "display_name": "Python 3",
   "language": "python",
   "name": "python3"
  },
  "language_info": {
   "codemirror_mode": {
    "name": "ipython",
    "version": 3
   },
   "file_extension": ".py",
   "mimetype": "text/x-python",
   "name": "python",
   "nbconvert_exporter": "python",
   "pygments_lexer": "ipython3",
   "version": "3.5.2"
  }
 },
 "nbformat": 4,
 "nbformat_minor": 2
}
